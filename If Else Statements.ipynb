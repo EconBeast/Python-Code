{
 "cells": [
  {
   "cell_type": "code",
   "execution_count": 2,
   "metadata": {},
   "outputs": [
    {
     "name": "stdout",
     "output_type": "stream",
     "text": [
      "Iguanas\n",
      "Fly over the moon\n"
     ]
    }
   ],
   "source": [
    "a= 1\n",
    "b = 2\n",
    "#If clause. MAke sure the indent is consistent through the lines\n",
    "if a <b:\n",
    "    print(\"Iguanas\")\n",
    "    print(\"Fly over the moon\")"
   ]
  },
  {
   "cell_type": "code",
   "execution_count": 1,
   "metadata": {},
   "outputs": [
    {
     "name": "stdout",
     "output_type": "stream",
     "text": [
      "Damn fam\n"
     ]
    }
   ],
   "source": [
    "#The single equal sign is an assignment. The double equal sign is like math.\n",
    "c= 5\n",
    "d= 4\n",
    "if c<d:\n",
    "    print(\"positive\")\n",
    "elif c==d:\n",
    "    print(\"Hmmmm\")\n",
    "else:\n",
    "    print(\"negative\")"
   ]
  },
  {
   "cell_type": "code",
   "execution_count": 4,
   "metadata": {},
   "outputs": [
    {
     "name": "stdout",
     "output_type": "stream",
     "text": [
      "g is equal to h\n"
     ]
    }
   ],
   "source": [
    "g= 8\n",
    "h= 8\n",
    "if g<h:\n",
    "    print(\"g is less than h\")\n",
    "else: \n",
    "    if g==h:\n",
    "        print(\"g is equal to h\")\n",
    "    else:\n",
    "        print(\"g is greater than h\")"
   ]
  },
  {
   "cell_type": "code",
   "execution_count": 15,
   "metadata": {},
   "outputs": [
    {
     "name": "stdout",
     "output_type": "stream",
     "text": [
      "bmi: \n",
      "47\n",
      "james\n",
      "is overweight\n"
     ]
    }
   ],
   "source": [
    "name = \"james\"\n",
    "height = 2\n",
    "weight = 190\n",
    "bmi = weight/(height**2)\n",
    "print(\"bmi: \")\n",
    "print(bmi)\n",
    "if bmi <25:\n",
    "    print(name)\n",
    "    print(\"is not overweight\")\n",
    "else:\n",
    "    print(name)\n",
    "    print(\"is overweight\")"
   ]
  },
  {
   "cell_type": "code",
   "execution_count": null,
   "metadata": {
    "collapsed": true
   },
   "outputs": [],
   "source": []
  }
 ],
 "metadata": {
  "kernelspec": {
   "display_name": "Python 3",
   "language": "python",
   "name": "python3"
  },
  "language_info": {
   "codemirror_mode": {
    "name": "ipython",
    "version": 3
   },
   "file_extension": ".py",
   "mimetype": "text/x-python",
   "name": "python",
   "nbconvert_exporter": "python",
   "pygments_lexer": "ipython3",
   "version": "3.7.3"
  }
 },
 "nbformat": 4,
 "nbformat_minor": 2
}
