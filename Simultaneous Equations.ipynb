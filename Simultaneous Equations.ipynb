{
 "cells": [
  {
   "cell_type": "markdown",
   "metadata": {},
   "source": [
    "## Simultaneous Equations"
   ]
  },
  {
   "cell_type": "markdown",
   "metadata": {},
   "source": [
    "When dealing with instrumental variables, it attempts to solve three endogeneity problems: omitted variables, measurement error amd simultaneity. \n",
    "Omitted variables: there is a variable that we would like to hold fixed when estimating the \"all else equal\" effect of one or more of the observed explanatory variables. \n",
    "Measurement error: we would like to estimate the effect of certain explanatory variables on y, but we have mismeasured one or more variables.\n",
    "Simultaneity: this arises when one or more of the explanatory variables is jointly determined with the dependent variable, typically through an equillibrium mechanism. \n",
    "\n",
    "Fortunately, the method to solving for simultaneity is the same as approaching instrumental variables: through two -step OLS. \n",
    "\n",
    "16-1: Discusses the nature and scope of simultaneous equations models\n",
    "\n",
    "16-2: Confirming that OLS applied to an equatuation in a simultaneous system is generally biased and inconsistent \n",
    "\n",
    "16-3: Provides a general description of identification and estimation in a two equation system\n",
    "\n",
    "16-4: covers models with more than 2 equations \n",
    "\n",
    "16-5: Special issues that arise in these models\n",
    "16-6: Simultaneous equations models with panel data \n",
    "\n",
    "\n"
   ]
  },
  {
   "cell_type": "markdown",
   "metadata": {},
   "source": [
    "## The Nature of Simultaneous Equations Models 16-1"
   ]
  },
  {
   "cell_type": "markdown",
   "metadata": {},
   "source": [
    "The model that exemplifies the nature of simultaneous equations is the supply and demand model (of some commodity). \n",
    "\n",
    "$$\n",
    "Q = B_{1}P + u_{1}\n",
    "$$\n",
    "\n",
    "$$\n",
    "Q = a_{1}P + a_{2}z + u_{2}\n",
    "$$"
   ]
  },
  {
   "cell_type": "markdown",
   "metadata": {},
   "source": [
    "Q = equilibrium quantity\n",
    "\n",
    "P = price\n",
    "\n",
    "z = some observed variable affecting labor demand. Just some shifter\n",
    "\n",
    "u = error term \n"
   ]
  },
  {
   "cell_type": "markdown",
   "metadata": {},
   "source": [
    "It is not correct to run separate OLS regressions for each equation to get the proper coefficients for each parameter. It is not correct because wages is an endogenous regressor; all the while being correlated to the error term. As a result, we have to express the endogenous variables hours and wages as a function of the exogenous variables - z in this case. \n",
    "\n",
    "To begin,  we set the equations equal to each other and solve for \"w\". We then plug in \"w\" into one of the original equations. The result should be new parameters, condensed. This is known as the reduced-form. Now the least-squares regression can be ran because the gauss markov-assumptions are not broken. "
   ]
  },
  {
   "cell_type": "code",
   "execution_count": 68,
   "metadata": {
    "scrolled": true
   },
   "outputs": [
    {
     "data": {
      "text/plain": [
       "[(-a*z - e + u)/(a - b)]"
      ]
     },
     "execution_count": 68,
     "metadata": {},
     "output_type": "execute_result"
    }
   ],
   "source": [
    "import numpy as np\n",
    "import math\n",
    "import sympy as sy\n",
    "from sympy import symbols\n",
    "b = symbols('b')\n",
    "P= symbols('P')\n",
    "Q = symbols('Q')\n",
    "u = symbols('u')\n",
    "e = symbols('e')\n",
    "z = symbols('z')\n",
    "a = symbols('a')\n",
    "\n",
    "f = b*P+u\n",
    "g = a*P+a*z+e\n",
    "\n",
    "sy.solve(f-g,P)\n",
    "\n",
    "\n",
    "\n"
   ]
  },
  {
   "cell_type": "code",
   "execution_count": 9,
   "metadata": {},
   "outputs": [
    {
     "name": "stdout",
     "output_type": "stream",
     "text": [
      "<pandas.io.excel.ExcelFile object at 0x0000006B6F6AAC50>\n"
     ]
    }
   ],
   "source": [
    "import os\n",
    "cwd = os.getcwd()\n",
    "cwd\n",
    "os.chdir (\"/Users/lcald_000/Desktop\")\n",
    "\n",
    "import pandas as pd\n",
    "import scipy.stats as stats\n",
    "import sklearn\n",
    "file = 'crime2.xls'\n",
    "xl = pd.ExcelFile(file)\n",
    "print(xl)\n",
    "df1 = xl.parse('CRIME2')"
   ]
  },
  {
   "cell_type": "code",
   "execution_count": 11,
   "metadata": {},
   "outputs": [
    {
     "name": "stdout",
     "output_type": "stream",
     "text": [
      "    Number Police Officers  Per Capita Income  Crimes per 1000 people\n",
      "0                      326               8532                74.65756\n",
      "1                      321              12155                70.11729\n",
      "2                     1621               7551                92.93487\n",
      "3                     1803              11363                89.97221\n",
      "4                      633               8343                83.61113\n",
      "5                      685              11729                77.19476\n",
      "6                      245               7592                88.94253\n",
      "7                      259              10802                84.04099\n",
      "8                      504               7558               108.17280\n",
      "9                      563              10627               103.56380\n",
      "10                     186               6411               136.89230\n",
      "11                     232               8876               112.09230\n",
      "12                    1395               8016                71.31332\n",
      "13                    1674              11766                84.76430\n",
      "14                    1971               9265                96.85057\n",
      "15                    1870              13575                75.52742\n",
      "16                     891               8379                78.46759\n",
      "17                     998              12583                50.01925\n",
      "18                     310               6569                92.27602\n",
      "19                     359               9395                84.14310\n",
      "20                     109               8385                70.77671\n",
      "21                     121              13054                72.51898\n",
      "22                    1388               8555               113.92520\n",
      "23                    1322              12490                90.64057\n",
      "24                     439               5559               169.31550\n",
      "25                     494               8677               164.48240\n",
      "26                     180               8223                75.87195\n",
      "27                     209              13213                84.74728\n",
      "28                     290               8727               103.16200\n",
      "29                     284              13350               105.91490\n",
      "..                     ...                ...                     ...\n",
      "62                     991               6875                87.72446\n",
      "63                     886              10247                73.19186\n",
      "64                    1947               5770                95.69749\n",
      "65                    1717               8018                82.83546\n",
      "66                    1216               6783                87.43613\n",
      "67                    1281               9909                91.47763\n",
      "68                     468               5771               126.32830\n",
      "69                     472               8621               108.32810\n",
      "70                     767               7991                89.85092\n",
      "71                     767              11527               126.99590\n",
      "72                     699               8092               130.05960\n",
      "73                     769              10770               165.79970\n",
      "74                    1278               6845                70.24899\n",
      "75                    1036               9998                79.26687\n",
      "76                     408               6169                96.08725\n",
      "77                     423               9501               120.02920\n",
      "78                    1200               6466                84.75511\n",
      "79                    1231               9362                96.74407\n",
      "80                    1996               8612               119.37060\n",
      "81                    2400              12816               162.83230\n",
      "82                     719               7336               114.20510\n",
      "83                     952              10515               179.41730\n",
      "84                     366               7409               108.93850\n",
      "85                     317              10248               130.58760\n",
      "86                     590               6113                77.22557\n",
      "87                     623               9340                74.09851\n",
      "88                     400               7704                54.06360\n",
      "89                     504              12039                54.98327\n",
      "90                    2087               7028                71.06137\n",
      "91                    1944               9765                82.90713\n",
      "\n",
      "[92 rows x 3 columns]\n"
     ]
    }
   ],
   "source": [
    "print (df1)"
   ]
  },
  {
   "cell_type": "code",
   "execution_count": 96,
   "metadata": {
    "scrolled": true
   },
   "outputs": [
    {
     "ename": "TypeError",
     "evalue": "'module' object is not callable",
     "output_type": "error",
     "traceback": [
      "\u001b[1;31m---------------------------------------------------------------------------\u001b[0m",
      "\u001b[1;31mTypeError\u001b[0m                                 Traceback (most recent call last)",
      "\u001b[1;32m<ipython-input-96-ab7340d8bfc9>\u001b[0m in \u001b[0;36m<module>\u001b[1;34m()\u001b[0m\n\u001b[0;32m     17\u001b[0m \u001b[0mk\u001b[0m \u001b[1;33m=\u001b[0m \u001b[1;33m(\u001b[0m\u001b[1;34m'Per Capita Income'\u001b[0m\u001b[1;33m)\u001b[0m\u001b[1;33m\u001b[0m\u001b[0m\n\u001b[0;32m     18\u001b[0m \u001b[0ml\u001b[0m \u001b[1;33m=\u001b[0m \u001b[1;33m(\u001b[0m\u001b[1;34m'Crimes per 1000 people'\u001b[0m\u001b[1;33m)\u001b[0m\u001b[1;33m\u001b[0m\u001b[0m\n\u001b[1;32m---> 19\u001b[1;33m \u001b[0mxc\u001b[0m \u001b[1;33m=\u001b[0m \u001b[0msm\u001b[0m\u001b[1;33m.\u001b[0m\u001b[0msandbox\u001b[0m\u001b[1;33m.\u001b[0m\u001b[0mregression\u001b[0m\u001b[1;33m(\u001b[0m\u001b[0mj\u001b[0m\u001b[1;33m,\u001b[0m \u001b[0mk\u001b[0m\u001b[1;33m,\u001b[0m \u001b[0minstrument\u001b[0m\u001b[1;33m=\u001b[0m\u001b[0ml\u001b[0m\u001b[1;33m)\u001b[0m\u001b[1;33m\u001b[0m\u001b[0m\n\u001b[0m",
      "\u001b[1;31mTypeError\u001b[0m: 'module' object is not callable"
     ]
    }
   ],
   "source": [
    "import statsmodels as sm\n",
    "from statsmodels.sandbox.regression.gmm import IV2SLS\n",
    "import pandas as pd\n",
    "import os\n",
    "cwd = os.getcwd()\n",
    "cwd\n",
    "os.chdir (\"/Users/lcald_000/Desktop\")\n",
    "\n",
    "import pandas as pd\n",
    "import scipy.stats as stats\n",
    "import sklearn\n",
    "file = 'crime2.xls'\n",
    "\n",
    "xl = pd.ExcelFile(file)\n",
    "\n",
    "j = ('Number Police Officers')\n",
    "k = ('Per Capita Income')\n",
    "l = ('Crimes per 1000 people')\n",
    "xc = sm.sandbox.regression(j, k, instrument=l)"
   ]
  },
  {
   "cell_type": "code",
   "execution_count": 89,
   "metadata": {},
   "outputs": [
    {
     "ename": "SyntaxError",
     "evalue": "invalid syntax (<ipython-input-89-5081b6f828b0>, line 14)",
     "output_type": "error",
     "traceback": [
      "\u001b[1;36m  File \u001b[1;32m\"<ipython-input-89-5081b6f828b0>\"\u001b[1;36m, line \u001b[1;32m14\u001b[0m\n\u001b[1;33m    proc syslin(file)=in 2sls;\u001b[0m\n\u001b[1;37m              ^\u001b[0m\n\u001b[1;31mSyntaxError\u001b[0m\u001b[1;31m:\u001b[0m invalid syntax\n"
     ]
    }
   ],
   "source": [
    "\n",
    "\n",
    "\n",
    "\n"
   ]
  },
  {
   "cell_type": "code",
   "execution_count": null,
   "metadata": {
    "collapsed": true
   },
   "outputs": [],
   "source": []
  }
 ],
 "metadata": {
  "kernelspec": {
   "display_name": "Python 3",
   "language": "python",
   "name": "python3"
  },
  "language_info": {
   "codemirror_mode": {
    "name": "ipython",
    "version": 3
   },
   "file_extension": ".py",
   "mimetype": "text/x-python",
   "name": "python",
   "nbconvert_exporter": "python",
   "pygments_lexer": "ipython3",
   "version": "3.6.3"
  }
 },
 "nbformat": 4,
 "nbformat_minor": 2
}
