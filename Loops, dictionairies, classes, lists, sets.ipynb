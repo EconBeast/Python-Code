{
 "cells": [
  {
   "cell_type": "code",
   "execution_count": 1,
   "metadata": {
    "collapsed": true
   },
   "outputs": [],
   "source": [
    "a = [\"a\", \"b\", \"c\"]"
   ]
  },
  {
   "cell_type": "code",
   "execution_count": 2,
   "metadata": {},
   "outputs": [
    {
     "name": "stdout",
     "output_type": "stream",
     "text": [
      "a\n",
      "b\n",
      "c\n"
     ]
    }
   ],
   "source": [
    "#To iterate. This says: \"For each element in a, print\" element can be any word actually\n",
    "for element in a:\n",
    "    print(element)"
   ]
  },
  {
   "cell_type": "code",
   "execution_count": 18,
   "metadata": {},
   "outputs": [
    {
     "data": {
      "text/plain": [
       "58"
      ]
     },
     "execution_count": 18,
     "metadata": {},
     "output_type": "execute_result"
    }
   ],
   "source": [
    "b = [20, 5, 4]\n",
    "total = 0\n",
    "#So here for all elements \"e\" in the set B, we add. So, initial total is 0\n",
    "#Once we add the first element to it, we have a new total, 20. Then we add\n",
    "#the subsequent e to it\n",
    "for e in b: \n",
    "    total = total + e\n",
    "total \n",
    "#You can also do this neat trick. instead of rewriting total, you can do:\n",
    "for e in b:\n",
    "    total += e #The plus equals sign will add itself\n",
    "total\n",
    "#It shows 58 since i ran the command twice "
   ]
  },
  {
   "cell_type": "code",
   "execution_count": 7,
   "metadata": {},
   "outputs": [
    {
     "data": {
      "text/plain": [
       "[1, 2, 3, 4]"
      ]
     },
     "execution_count": 7,
     "metadata": {},
     "output_type": "execute_result"
    }
   ],
   "source": [
    "#creates a range from 1 -5, not including 5\n",
    "range(1, 5)"
   ]
  },
  {
   "cell_type": "code",
   "execution_count": 3,
   "metadata": {},
   "outputs": [
    {
     "data": {
      "text/plain": [
       "[1, 2, 3, 4]"
      ]
     },
     "execution_count": 3,
     "metadata": {},
     "output_type": "execute_result"
    }
   ],
   "source": [
    "#To make a list out of it \n",
    "c = list(range(1, 5))\n",
    "c"
   ]
  },
  {
   "cell_type": "code",
   "execution_count": 6,
   "metadata": {},
   "outputs": [
    {
     "name": "stdout",
     "output_type": "stream",
     "text": [
      "7\n",
      "8\n",
      "9\n",
      "10\n"
     ]
    }
   ],
   "source": [
    "for i in c:\n",
    "    print(i+6)"
   ]
  },
  {
   "cell_type": "code",
   "execution_count": 19,
   "metadata": {},
   "outputs": [
    {
     "name": "stdout",
     "output_type": "stream",
     "text": [
      "1\n"
     ]
    },
    {
     "data": {
      "text/plain": [
       "9"
      ]
     },
     "execution_count": 19,
     "metadata": {},
     "output_type": "execute_result"
    }
   ],
   "source": [
    "#So here I want to add only the numbers divisible by 3. This requires the \n",
    "#modular which is the remainder function. \n",
    "print(4 % 3) #this will print only the remainder of 4/3 or 1. \n",
    "range(1, 8)\n",
    "total3 =0\n",
    "for i in range(1,8):\n",
    "    if i %3 ==0:\n",
    "        total3 += i\n",
    "total3 #3+6 since they are the only numbers divisble by 9 "
   ]
  },
  {
   "cell_type": "code",
   "execution_count": 8,
   "metadata": {},
   "outputs": [
    {
     "data": {
      "text/plain": [
       "750"
      ]
     },
     "execution_count": 8,
     "metadata": {},
     "output_type": "execute_result"
    }
   ],
   "source": [
    "d = list(range(1,100))\n",
    "total4 = 0\n",
    "for i in d:\n",
    "    if i % 4 and i %5 ==0:\n",
    "        total4 += i\n",
    "total4\n",
    "#d does not include 100"
   ]
  },
  {
   "cell_type": "markdown",
   "metadata": {},
   "source": [
    "## While Loops and the Break Statement"
   ]
  },
  {
   "cell_type": "code",
   "execution_count": 22,
   "metadata": {},
   "outputs": [
    {
     "data": {
      "text/plain": [
       "10"
      ]
     },
     "execution_count": 22,
     "metadata": {},
     "output_type": "execute_result"
    }
   ],
   "source": [
    "total = 0\n",
    "for i in range(1, 5):\n",
    "    total += i\n",
    "total"
   ]
  },
  {
   "cell_type": "code",
   "execution_count": 23,
   "metadata": {},
   "outputs": [
    {
     "data": {
      "text/plain": [
       "10"
      ]
     },
     "execution_count": 23,
     "metadata": {},
     "output_type": "execute_result"
    }
   ],
   "source": [
    "total2 = 0\n",
    "#in the for loop, we did not have to specify i or element\n",
    "#in the while loop, we have to specify, so we do it before\n",
    "j =1\n",
    "while j <5:\n",
    "    total2 += j\n",
    "    j +=1\n",
    "total2\n",
    "#The process: ok j =1 so it is less than 5, so we total2 + j = 0+1\n",
    "#Then we add 1 to J so J is now 2\n",
    "#Then we do the process again. total2 = 1+2 = 3 and so forth for all j<5"
   ]
  },
  {
   "cell_type": "markdown",
   "metadata": {},
   "source": [
    "### So for loops and while loop lead to the same result, but the idea with while loop is that we do not know which elements will be under the condition. Meaning, in for loops, I already give a range. In while loops, it goes through all elements that satisfy a condition, rather than looking at a range. Meaning, we assume there are elements that do not satisfy the condition. This is necessary for the while loop to stop. For example, if we removed the negative numbers from the list, we have to add another condition in the while loop. This is shown 1 row below"
   ]
  },
  {
   "cell_type": "code",
   "execution_count": 27,
   "metadata": {},
   "outputs": [
    {
     "data": {
      "text/plain": [
       "17"
      ]
     },
     "execution_count": 27,
     "metadata": {},
     "output_type": "execute_result"
    }
   ],
   "source": [
    "x = [5, 4, 3, 3, 2, -1, -2, -5]\n",
    "total3 = 0\n",
    "i =0\n",
    "#In the while function, when we have a list, we use the [] to indicate every \n",
    "#element. \n",
    "while x[i] >0:\n",
    "    total3 += x[i]\n",
    "    i += 1\n",
    "total3"
   ]
  },
  {
   "cell_type": "code",
   "execution_count": 11,
   "metadata": {},
   "outputs": [
    {
     "name": "stdout",
     "output_type": "stream",
     "text": [
      "17\n",
      "5\n",
      "5\n"
     ]
    }
   ],
   "source": [
    "y = [5, 4, 3, 3, 2]\n",
    "total5 =0\n",
    "i=0\n",
    "while i < len(y) and y[i] > 0:\n",
    "    total5 += y[i]\n",
    "    i+= 1\n",
    "print(total5)\n",
    "print(len(y))\n",
    "print(y[0])"
   ]
  },
  {
   "cell_type": "code",
   "execution_count": 44,
   "metadata": {},
   "outputs": [
    {
     "name": "stdout",
     "output_type": "stream",
     "text": [
      "25\n"
     ]
    }
   ],
   "source": [
    "v = [3, 4, 5, 6, 7, -1, -2, -3]\n",
    "total5 = 0\n",
    "for element in v:\n",
    "    if element <=0:\n",
    "        break\n",
    "    total5+= element\n",
    "print(total5)\n",
    "#It immediately stops when it reaches a negative number"
   ]
  },
  {
   "cell_type": "code",
   "execution_count": 45,
   "metadata": {},
   "outputs": [
    {
     "name": "stdout",
     "output_type": "stream",
     "text": [
      "25\n"
     ]
    }
   ],
   "source": [
    "v = [3, 4, 5, 6, 7, -1, -2, -3]\n",
    "total5 = 0\n",
    "i =0\n",
    "while True:\n",
    "    total5 += v[i]\n",
    "    i+=1\n",
    "    if v[i]<= 0:\n",
    "        break\n",
    "print(total5)\n",
    "    "
   ]
  },
  {
   "cell_type": "markdown",
   "metadata": {},
   "source": [
    "# More on Loops"
   ]
  },
  {
   "cell_type": "code",
   "execution_count": 48,
   "metadata": {},
   "outputs": [
    {
     "name": "stdout",
     "output_type": "stream",
     "text": [
      "1\n",
      "2\n",
      "3\n",
      "4\n",
      "5\n",
      "6\n",
      "1\n",
      "2\n",
      "2\n",
      "3\n",
      "3\n",
      "3\n",
      "4\n",
      "4\n",
      "4\n",
      "4\n",
      "5\n",
      "5\n",
      "5\n",
      "5\n",
      "5\n",
      "6\n",
      "6\n",
      "6\n",
      "6\n",
      "6\n",
      "6\n"
     ]
    }
   ],
   "source": [
    "#More neat tricks in the for loop process \n",
    "# lets create a list \n",
    "a = [1, 2, 3, 4, 5, 6]\n",
    "#i can obviously just put for i in 'a', print 'a' , but this method has \n",
    "#implications \n",
    "for i in range(len(a)):\n",
    "    print(a[i])\n",
    "#Weird command \n",
    "for i in range(len(a)):\n",
    "    for j in range(i+1):\n",
    "        print(a[i])"
   ]
  },
  {
   "cell_type": "code",
   "execution_count": 53,
   "metadata": {},
   "outputs": [
    {
     "name": "stdout",
     "output_type": "stream",
     "text": [
      "2318\n"
     ]
    }
   ],
   "source": [
    "d = range(100)\n",
    "tot=0\n",
    "for i in d:\n",
    "    if i % 5 ==0: \n",
    "        tot += i\n",
    "    elif i % 3 ==0: \n",
    "        tot += i\n",
    "\n",
    "print(tot)\n",
    "    "
   ]
  },
  {
   "cell_type": "code",
   "execution_count": 54,
   "metadata": {},
   "outputs": [
    {
     "name": "stdout",
     "output_type": "stream",
     "text": [
      "2318\n"
     ]
    }
   ],
   "source": [
    "# or command \n",
    "d = range(100)\n",
    "tot=0\n",
    "for i in d:\n",
    "    if i % 5 ==0 or i %3 ==0: \n",
    "        tot += i\n",
    "print(tot)"
   ]
  },
  {
   "cell_type": "code",
   "execution_count": 64,
   "metadata": {},
   "outputs": [
    {
     "name": "stdout",
     "output_type": "stream",
     "text": [
      "-6\n"
     ]
    }
   ],
   "source": [
    "#This is a mistake. Running this while loop will make it stop at 0, \n",
    "#hence it only works if the numbers are in descending order\n",
    "n = [3, -3, -4, -5, 0, -6]\n",
    "T = 0\n",
    "j =len(n)-1\n",
    "while n[j]<0:\n",
    "    T += n[j]\n",
    "    j-= 1\n",
    "print(T)"
   ]
  },
  {
   "cell_type": "code",
   "execution_count": 89,
   "metadata": {},
   "outputs": [
    {
     "name": "stdout",
     "output_type": "stream",
     "text": [
      "[-6, -5, -4, -3, 0, 3]\n",
      "[3, 0, -3, -4, -5, -6]\n"
     ]
    }
   ],
   "source": [
    "#To convert to any order, we can do ascending\n",
    "import numpy as np\n",
    "w = n.sort()\n",
    "print(n)\n",
    "\n",
    "#or descending\n",
    "n.sort(reverse=True)\n",
    "print(n)"
   ]
  },
  {
   "cell_type": "code",
   "execution_count": 92,
   "metadata": {},
   "outputs": [
    {
     "name": "stdout",
     "output_type": "stream",
     "text": [
      "-18\n"
     ]
    }
   ],
   "source": [
    "#Then we can take the sum using a while loop, since it is already organized.\n",
    "\n",
    "T= 0\n",
    "#This is our starting point. We start at the end, since all\n",
    "#the negative numbers are there\n",
    "i = len(n)-1 \n",
    "while n[i] <0:\n",
    "    T +=n[i] #Summing only the negative numbers\n",
    "    i -= 1 #Since we started at the end, we go backwards \n",
    "print(T)"
   ]
  },
  {
   "cell_type": "code",
   "execution_count": 93,
   "metadata": {},
   "outputs": [
    {
     "name": "stdout",
     "output_type": "stream",
     "text": [
      "-15\n"
     ]
    }
   ],
   "source": [
    "#Summing all numbers\n",
    "T = 0\n",
    "for i in n:\n",
    "    T +=i\n",
    "    i+=1\n",
    "print(T)"
   ]
  },
  {
   "cell_type": "code",
   "execution_count": 104,
   "metadata": {},
   "outputs": [
    {
     "name": "stdout",
     "output_type": "stream",
     "text": [
      "11\n"
     ]
    }
   ],
   "source": [
    "f = [2, 3, -5, 6]\n",
    "TT = 0\n",
    "#Think of i as 'the element'\n",
    "for i in f:\n",
    "    if i > 0: \n",
    "        TT += i\n",
    "print(TT)"
   ]
  },
  {
   "cell_type": "markdown",
   "metadata": {},
   "source": [
    "# Dictionaries"
   ]
  },
  {
   "cell_type": "code",
   "execution_count": 2,
   "metadata": {},
   "outputs": [],
   "source": [
    "#To create a dictionary, just:\n",
    "d = {}"
   ]
  },
  {
   "cell_type": "code",
   "execution_count": 3,
   "metadata": {},
   "outputs": [],
   "source": [
    "#now to input values\n",
    "d[\"George\"]=20"
   ]
  },
  {
   "cell_type": "code",
   "execution_count": 4,
   "metadata": {},
   "outputs": [],
   "source": [
    "d[\"Michel\"]=21\n",
    "d[\"Ade\"]=22\n",
    "d[\"Ludicrous\"]= 'silly or unbelieveable'"
   ]
  },
  {
   "cell_type": "code",
   "execution_count": 5,
   "metadata": {},
   "outputs": [
    {
     "name": "stdout",
     "output_type": "stream",
     "text": [
      "{'George': 20, 'Michel': 21, 'Ade': 22, 'Ludicrous': 'silly or unbelieveable'}\n"
     ]
    }
   ],
   "source": [
    "#This will show all values in our dictionary and you can print indvidually\n",
    "print(d)"
   ]
  },
  {
   "cell_type": "code",
   "execution_count": 6,
   "metadata": {},
   "outputs": [
    {
     "name": "stdout",
     "output_type": "stream",
     "text": [
      "Name\n",
      "George\n",
      "\n",
      "Age\n",
      "20\n",
      "\n",
      "Name\n",
      "Michel\n",
      "\n",
      "Age\n",
      "21\n",
      "\n",
      "Name\n",
      "Ade\n",
      "\n",
      "Age\n",
      "22\n",
      "\n",
      "Word\n",
      "Ludicrous\n",
      "\n",
      "Definition\n",
      "silly or unbelieveable\n",
      "\n"
     ]
    }
   ],
   "source": [
    "#To iterate over key valued pairs and messing around with if and else\n",
    "for key, value in d.items():\n",
    "    if key != 'Ludicrous':\n",
    "        print(\"Name\") \n",
    "    else: \n",
    "        print(\"Word\")\n",
    "    print(key)\n",
    "    print(\"\")\n",
    "    if key != 'Ludicrous':\n",
    "        print(\"Age\")\n",
    "    else: \n",
    "        print(\"Definition\")\n",
    "    \n",
    "    print(value)\n",
    "    print(\"\")"
   ]
  },
  {
   "cell_type": "markdown",
   "metadata": {},
   "source": [
    "# Class and Objects"
   ]
  },
  {
   "cell_type": "code",
   "execution_count": 147,
   "metadata": {},
   "outputs": [],
   "source": [
    "#We create classes to apply functions to each object of our class. \n",
    "#Here, we create a class called friends where each object is 1 friend\n",
    "#and whenever we run the function on an object like r1.introduce_self, \n",
    "#it will print \"My name is\" +self.name where self = r1\n",
    "\n",
    "#I later added the __init__ to simplify\n",
    "class Friends:\n",
    "    def __init__(self, name, color, weight): #Called a constructor\n",
    "        self.name = name\n",
    "        self.color = color\n",
    "        self.weight = weight\n",
    "        \n",
    "    def introduce_self(self):\n",
    "        print(\"My name is \"+ self.name)\n",
    "        print(\"My favorite color is \"+ self.color)"
   ]
  },
  {
   "cell_type": "code",
   "execution_count": 156,
   "metadata": {},
   "outputs": [],
   "source": [
    "#r1 here is an object. It goes within the class. By the way, to block out \n",
    "#code, do control + /\n",
    "\n",
    "# r1 = Friends()\n",
    "# r1.name = \"Tom\"\n",
    "# r1.color = \"Blue\"\n",
    "# r1.weight = 40\n",
    "\n",
    "# r2 = Friends()\n",
    "# r2.name = \"Squi\"\n",
    "# r2.color = \"purple\"\n",
    "# r2.weight = 90\n",
    "\n",
    "#Now we are going to try to use the __init_. This simplifies the coding process\n",
    "r1 = Friends(\"Tom\", \"Blue\", 40)\n",
    "r2 = Friends(\"Squi\", \"Purple\", 90)"
   ]
  },
  {
   "cell_type": "code",
   "execution_count": 158,
   "metadata": {},
   "outputs": [
    {
     "name": "stdout",
     "output_type": "stream",
     "text": [
      "My name is Tom\n",
      "My favorite color is Blue\n",
      "My name is Squi\n",
      "My favorite color is Purple\n"
     ]
    }
   ],
   "source": [
    "r1.introduce_self()\n",
    "r2.introduce_self()"
   ]
  },
  {
   "cell_type": "code",
   "execution_count": 159,
   "metadata": {
    "collapsed": true
   },
   "outputs": [],
   "source": [
    "class Person:\n",
    "    def __init__(self, n, p, i):\n",
    "        self.name = n\n",
    "        self.personality = p\n",
    "        self.is_sitting = i\n",
    "        \n",
    "    def sit_down(self):\n",
    "        self.is_sitting = True\n",
    "    def stand_up(seld):\n",
    "        self.is_sitting = False\n",
    "        "
   ]
  },
  {
   "cell_type": "code",
   "execution_count": 160,
   "metadata": {
    "collapsed": true
   },
   "outputs": [],
   "source": [
    "p1 = Person(\"Alice\", \"Aggresive\", False)\n",
    "p2 = Person(\"Becky\", \"Talkative\", True)\n"
   ]
  },
  {
   "cell_type": "code",
   "execution_count": 161,
   "metadata": {
    "collapsed": true
   },
   "outputs": [],
   "source": [
    "p1.robot_owned = r2\n",
    "p2.robot_owned = r1"
   ]
  },
  {
   "cell_type": "code",
   "execution_count": 162,
   "metadata": {},
   "outputs": [
    {
     "name": "stdout",
     "output_type": "stream",
     "text": [
      "My name is Squi\n",
      "My favorite color is Purple\n"
     ]
    }
   ],
   "source": [
    "p1.robot_owned.introduce_self()"
   ]
  },
  {
   "cell_type": "markdown",
   "metadata": {},
   "source": [
    "# List Comprehensions"
   ]
  },
  {
   "cell_type": "code",
   "execution_count": 165,
   "metadata": {},
   "outputs": [
    {
     "name": "stdout",
     "output_type": "stream",
     "text": [
      "[2, 4, 8, 12, 14, 24]\n"
     ]
    }
   ],
   "source": [
    "a =[1, 2, 4, 6, 7, 12]\n",
    "c = []\n",
    "for x in a:\n",
    "    c.append(x*2) #adding each element doubled in a to c\n",
    "print(c)"
   ]
  },
  {
   "cell_type": "code",
   "execution_count": 166,
   "metadata": {},
   "outputs": [
    {
     "name": "stdout",
     "output_type": "stream",
     "text": [
      "[2, 4, 8, 12, 14, 24]\n"
     ]
    }
   ],
   "source": [
    "d = [x*2 for x in a]\n",
    "print(d)"
   ]
  },
  {
   "cell_type": "code",
   "execution_count": 167,
   "metadata": {},
   "outputs": [
    {
     "name": "stdout",
     "output_type": "stream",
     "text": [
      "[1, 2, 4, 6, 7, 12]\n"
     ]
    }
   ],
   "source": [
    "#So you create an empty list. Then fill it with a function\n",
    "w = []\n",
    "for element in d:\n",
    "    w.append(element/2)\n",
    "print(w)"
   ]
  },
  {
   "cell_type": "code",
   "execution_count": 171,
   "metadata": {},
   "outputs": [
    {
     "name": "stdout",
     "output_type": "stream",
     "text": [
      "[36, 25, 16, 9, 4, 1]\n",
      "[2197, 1331, 729, 343, 125, 27]\n"
     ]
    }
   ],
   "source": [
    "#Creating a range\n",
    "range(6, 0, -1) #Starts at 6, does not include 0, and goes down by 1\n",
    "f1 = []\n",
    "for x in range(6, 0, -1):\n",
    "    f1.append(x**2)\n",
    "print(f1)\n",
    "\n",
    "f2 = [x**3 for x in range(13, 2, -2)]\n",
    "print(f2)"
   ]
  },
  {
   "cell_type": "markdown",
   "metadata": {},
   "source": [
    "# Set"
   ]
  },
  {
   "cell_type": "code",
   "execution_count": 172,
   "metadata": {},
   "outputs": [
    {
     "name": "stdout",
     "output_type": "stream",
     "text": [
      "set([])\n"
     ]
    }
   ],
   "source": [
    "#A python set rejects duplicate sets\n",
    "a = set()\n",
    "print(a)"
   ]
  },
  {
   "cell_type": "code",
   "execution_count": 174,
   "metadata": {},
   "outputs": [
    {
     "name": "stdout",
     "output_type": "stream",
     "text": [
      "set([1])\n"
     ]
    }
   ],
   "source": [
    "a.add(1)\n",
    "print(a)"
   ]
  },
  {
   "cell_type": "code",
   "execution_count": 175,
   "metadata": {},
   "outputs": [
    {
     "name": "stdout",
     "output_type": "stream",
     "text": [
      "set([1, 2])\n"
     ]
    }
   ],
   "source": [
    "a.add(2)\n",
    "print(a)"
   ]
  },
  {
   "cell_type": "code",
   "execution_count": 183,
   "metadata": {},
   "outputs": [
    {
     "name": "stdout",
     "output_type": "stream",
     "text": [
      "[0.0, 0.6931471805599453]\n"
     ]
    }
   ],
   "source": [
    "#So for lists, we have append. BUT for sets we have ADD\n",
    "b =[]\n",
    "for x in a:\n",
    "    b.append(np.log(x))\n",
    "\n",
    "print(b)"
   ]
  },
  {
   "cell_type": "code",
   "execution_count": 181,
   "metadata": {},
   "outputs": [
    {
     "name": "stdout",
     "output_type": "stream",
     "text": [
      "set([1, 2, 3, 4])\n"
     ]
    }
   ],
   "source": [
    "#The fact that python rejects duplicates in a set is fascinating\n",
    "q = [1, 2, 3, 3, 4, 4, 1]\n",
    "new_set = set()\n",
    "for x in q:\n",
    "    new_set.add(x)\n",
    "print(new_set)"
   ]
  },
  {
   "cell_type": "code",
   "execution_count": 185,
   "metadata": {},
   "outputs": [
    {
     "name": "stdout",
     "output_type": "stream",
     "text": [
      "10\n"
     ]
    }
   ],
   "source": [
    "t = 0\n",
    "for x in new_set:\n",
    "    t += x\n",
    "print(t)"
   ]
  },
  {
   "cell_type": "code",
   "execution_count": null,
   "metadata": {
    "collapsed": true
   },
   "outputs": [],
   "source": []
  }
 ],
 "metadata": {
  "kernelspec": {
   "display_name": "Python 3",
   "language": "python",
   "name": "python3"
  },
  "language_info": {
   "codemirror_mode": {
    "name": "ipython",
    "version": 3
   },
   "file_extension": ".py",
   "mimetype": "text/x-python",
   "name": "python",
   "nbconvert_exporter": "python",
   "pygments_lexer": "ipython3",
   "version": "3.7.3"
  }
 },
 "nbformat": 4,
 "nbformat_minor": 2
}
