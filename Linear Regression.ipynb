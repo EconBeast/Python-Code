{
 "cells": [
  {
   "cell_type": "markdown",
   "metadata": {},
   "source": [
    "# Wage Function with Interaction "
   ]
  },
  {
   "cell_type": "code",
   "execution_count": 3,
   "metadata": {},
   "outputs": [
    {
     "name": "stdout",
     "output_type": "stream",
     "text": [
      "<pandas.io.excel.ExcelFile object at 0x000000B8CAE8CDD8>\n"
     ]
    }
   ],
   "source": [
    "import numpy as np\n",
    "import pandas as pd\n",
    "import pylab\n",
    "import os\n",
    "cwd = os.getcwd()\n",
    "cwd\n",
    "os.chdir (\"/Users/lcald_000/Desktop\")\n",
    "\n",
    "\n",
    "import scipy.stats as stats\n",
    "import sklearn\n",
    "file = 'W.xls'\n",
    "xl = pd.ExcelFile(file)\n",
    "print(xl)\n",
    "df1 = xl.parse('WAGE1')"
   ]
  },
  {
   "cell_type": "code",
   "execution_count": 4,
   "metadata": {},
   "outputs": [
    {
     "name": "stdout",
     "output_type": "stream",
     "text": [
      "      wage  educ  exp  exp2   EX\n",
      "0     3.10    11    2     4   22\n",
      "1     3.24    12   22   484  264\n",
      "2     3.00    11    2     4   22\n",
      "3     6.00     8   44  1936  352\n",
      "4     5.30    12    7    49   84\n",
      "5     8.75    16    9    81  144\n",
      "6    11.25    18   15   225  270\n",
      "7     5.00    12    5    25   60\n",
      "8     3.60    12   26   676  312\n",
      "9    18.18    17   22   484  374\n",
      "10    6.25    16    8    64  128\n",
      "11    8.13    13    3     9   39\n",
      "12    8.77    12   15   225  180\n",
      "13    5.50    12   18   324  216\n",
      "14   22.20    12   31   961  372\n",
      "15   17.33    16   14   196  224\n",
      "16    7.50    12   10   100  120\n",
      "17   10.63    13   16   256  208\n",
      "18    3.60    12   13   169  156\n",
      "19    4.50    12   36  1296  432\n",
      "20    6.88    12   11   121  132\n",
      "21    8.48    12   29   841  348\n",
      "22    6.33    16    9    81  144\n",
      "23    0.53    12    3     9   36\n",
      "24    6.00    11   37  1369  407\n",
      "25    9.56    16    3     9   48\n",
      "26    7.78    16   11   121  176\n",
      "27   12.50    16   31   961  496\n",
      "28   12.50    15   30   900  450\n",
      "29    3.25     8    9    81   72\n",
      "..     ...   ...  ...   ...  ...\n",
      "496  12.50    14   40  1600  560\n",
      "497   5.15    16   39  1521  624\n",
      "498   3.13    10    1     1   10\n",
      "499   7.25    12   14   196  168\n",
      "500   2.90    12    2     4   24\n",
      "501   1.75    11    2     4   22\n",
      "502   2.89     0   42  1764    0\n",
      "503   2.90     5   34  1156  170\n",
      "504  17.71    16   10   100  160\n",
      "505   6.25    16    4    16   64\n",
      "506   2.60     9    4    16   36\n",
      "507   6.63    15   21   441  315\n",
      "508   3.50    12   31   961  372\n",
      "509   6.50    12   20   400  240\n",
      "510   3.00    12   36  1296  432\n",
      "511   4.38    13    7    49   91\n",
      "512  10.00    12   15   225  180\n",
      "513   4.95     7   25   625  175\n",
      "514   9.00    17    7    49  119\n",
      "515   1.43    12   17   289  204\n",
      "516   3.08    12    3     9   36\n",
      "517   9.33    14   12   144  168\n",
      "518   7.50    12   18   324  216\n",
      "519   4.75    13   47  2209  611\n",
      "520   5.65    12    2     4   24\n",
      "521  15.00    16   14   196  224\n",
      "522   2.27    10    2     4   20\n",
      "523   4.67    15   13   169  195\n",
      "524  11.56    16    5    25   80\n",
      "525   3.50    14    5    25   70\n",
      "\n",
      "[526 rows x 5 columns]\n"
     ]
    }
   ],
   "source": [
    "print(df1)"
   ]
  },
  {
   "cell_type": "code",
   "execution_count": 8,
   "metadata": {},
   "outputs": [
    {
     "data": {
      "text/plain": [
       "LinearRegression(copy_X=True, fit_intercept=True, n_jobs=1, normalize=False)"
      ]
     },
     "execution_count": 8,
     "metadata": {},
     "output_type": "execute_result"
    }
   ],
   "source": [
    "from sklearn.linear_model import LinearRegression\n",
    "\n",
    "X = df1.drop('wage', axis = 1)\n",
    "lm = LinearRegression()\n",
    "lm.fit(X, df1.wage)\n",
    "LinearRegression(copy_X=True, fit_intercept=True, normalize=False)\n",
    "\n"
   ]
  },
  {
   "cell_type": "code",
   "execution_count": 9,
   "metadata": {},
   "outputs": [
    {
     "name": "stdout",
     "output_type": "stream",
     "text": [
      "Estimate intercept coefficient: -5.20301311823\n"
     ]
    }
   ],
   "source": [
    "print ('Estimate intercept coefficient:', lm.intercept_)"
   ]
  },
  {
   "cell_type": "code",
   "execution_count": 10,
   "metadata": {},
   "outputs": [
    {
     "name": "stdout",
     "output_type": "stream",
     "text": [
      "Number of coefficients:\n"
     ]
    },
    {
     "data": {
      "text/plain": [
       "(None, 4)"
      ]
     },
     "execution_count": 10,
     "metadata": {},
     "output_type": "execute_result"
    }
   ],
   "source": [
    "print ('Number of coefficients:'), len(lm.coef_)"
   ]
  },
  {
   "cell_type": "code",
   "execution_count": 11,
   "metadata": {},
   "outputs": [
    {
     "name": "stdout",
     "output_type": "stream",
     "text": [
      "Coefficients: \n",
      " [ 0.68705211  0.3386987  -0.0049786  -0.00463484]\n"
     ]
    }
   ],
   "source": [
    "print('Coefficients: \\n', lm.coef_)\n"
   ]
  },
  {
   "cell_type": "code",
   "execution_count": null,
   "metadata": {
    "collapsed": true
   },
   "outputs": [],
   "source": []
  }
 ],
 "metadata": {
  "kernelspec": {
   "display_name": "Python 3",
   "language": "python",
   "name": "python3"
  },
  "language_info": {
   "codemirror_mode": {
    "name": "ipython",
    "version": 3
   },
   "file_extension": ".py",
   "mimetype": "text/x-python",
   "name": "python",
   "nbconvert_exporter": "python",
   "pygments_lexer": "ipython3",
   "version": "3.7.3"
  }
 },
 "nbformat": 4,
 "nbformat_minor": 2
}
